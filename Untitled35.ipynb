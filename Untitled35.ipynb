{
 "cells": [
  {
   "cell_type": "code",
   "execution_count": 65,
   "metadata": {},
   "outputs": [],
   "source": [
    "import bs4\n",
    "from urllib.request import urlopen as uReq\n",
    "from bs4 import BeautifulSoup as soup\n",
    "import re\n",
    "\n",
    "my_url = 'https://www.imdb.com/search/title/?release_date=2017&sort=num_votes,desc&page=1'\n",
    "\n",
    "uClient = uReq(my_url)\n",
    "page_html = uClient.read()\n",
    "uClient.close()\n",
    "page_soup = soup(page_html, \"html.parser\")\n",
    "containers =page_soup.findAll(\"div\",{\"class\":\"lister-item-content\"})\n",
    "\n",
    "\n",
    "filename = \"movies.csv\"\n",
    "f = open(filename,\"w\")\n",
    "headers = \"name, genre, year, rating, runtime, voting, metascore\\n\"\n",
    "f.write(headers)\n",
    "for i in range(len(containers)):\n",
    "    container = containers[i]\n",
    "    \n",
    "    name = container.a.text\n",
    "    \n",
    "    genre = container.findAll(\"span\", {\"class\":\"genre\"})[0].text.strip()\n",
    "    #genre = genre.split(\", \")[0]\n",
    "    \n",
    "    year = container.findAll(\"span\", {\"class\":\"lister-item-year text-muted unbold\"})[0].text\n",
    "    year = re.findall(r'\\d+', year)[0]\n",
    "    \n",
    "    rating_value = container.div.meta[\"content\"]\n",
    "    \n",
    "    runtime = container.findAll(\"span\", {\"class\":\"runtime\"})[0].text\n",
    "    runtime = re.findall(r'\\d+', runtime)[0]\n",
    "    \n",
    "    votes = container.findAll(\"span\", {\"name\":\"nv\"})[0].text\n",
    "    \n",
    "    #if containers[i].findAll(\"span\", {\"name\":\"nv\"})[1] is not None:\n",
    "     #   gross = container.findAll(\"span\", {\"name\":\"nv\"})[1].text\n",
    "      #  gross = re.findall(\"\\d+\\.\\d+\", gross)[0]\n",
    "       # grosses.append(gross)\n",
    "    #else:\n",
    "     #   gross = '0'\n",
    "      #  grosses.append(gross)    \n",
    "    \n",
    "    if container.find('div', class_ = 'ratings-metascore') is not None:\n",
    "        metascore = container.findAll(\"div\", {\"class\":\"inline-block ratings-metascore\"})[0].text.strip()\n",
    "        metascore = re.findall(r'\\d+', metascore)[0]\n",
    "    else:\n",
    "        metascore = '0'\n",
    "    f.write(name.replace(\",\",\"\") +','+ genre.replace(\",\",\"\") + ','+year + ','+rating_value+ ','+runtime + ','+votes.replace(\",\",\"\")+ ','+metascore+'\\n')\n",
    "f.close()"
   ]
  },
  {
   "cell_type": "code",
   "execution_count": 66,
   "metadata": {},
   "outputs": [
    {
     "data": {
      "text/html": [
       "<div>\n",
       "<style scoped>\n",
       "    .dataframe tbody tr th:only-of-type {\n",
       "        vertical-align: middle;\n",
       "    }\n",
       "\n",
       "    .dataframe tbody tr th {\n",
       "        vertical-align: top;\n",
       "    }\n",
       "\n",
       "    .dataframe thead th {\n",
       "        text-align: right;\n",
       "    }\n",
       "</style>\n",
       "<table border=\"1\" class=\"dataframe\">\n",
       "  <thead>\n",
       "    <tr style=\"text-align: right;\">\n",
       "      <th></th>\n",
       "      <th>name</th>\n",
       "      <th>genre</th>\n",
       "      <th>year</th>\n",
       "      <th>rating</th>\n",
       "      <th>runtime</th>\n",
       "      <th>voting</th>\n",
       "      <th>metascore</th>\n",
       "    </tr>\n",
       "  </thead>\n",
       "  <tbody>\n",
       "    <tr>\n",
       "      <th>0</th>\n",
       "      <td>Logan</td>\n",
       "      <td>Action Drama Sci-Fi</td>\n",
       "      <td>2017</td>\n",
       "      <td>8.1</td>\n",
       "      <td>137</td>\n",
       "      <td>563446</td>\n",
       "      <td>77</td>\n",
       "    </tr>\n",
       "    <tr>\n",
       "      <th>1</th>\n",
       "      <td>Wonder Woman</td>\n",
       "      <td>Action Adventure Fantasy</td>\n",
       "      <td>2017</td>\n",
       "      <td>7.5</td>\n",
       "      <td>141</td>\n",
       "      <td>489505</td>\n",
       "      <td>76</td>\n",
       "    </tr>\n",
       "    <tr>\n",
       "      <th>2</th>\n",
       "      <td>Thor: Ragnarok</td>\n",
       "      <td>Action Adventure Comedy</td>\n",
       "      <td>2017</td>\n",
       "      <td>7.9</td>\n",
       "      <td>130</td>\n",
       "      <td>487012</td>\n",
       "      <td>74</td>\n",
       "    </tr>\n",
       "    <tr>\n",
       "      <th>3</th>\n",
       "      <td>Guardians of the Galaxy Vol. 2</td>\n",
       "      <td>Action Adventure Comedy</td>\n",
       "      <td>2017</td>\n",
       "      <td>7.7</td>\n",
       "      <td>136</td>\n",
       "      <td>486527</td>\n",
       "      <td>67</td>\n",
       "    </tr>\n",
       "    <tr>\n",
       "      <th>4</th>\n",
       "      <td>Dunkirk</td>\n",
       "      <td>Action Drama History</td>\n",
       "      <td>2017</td>\n",
       "      <td>7.9</td>\n",
       "      <td>106</td>\n",
       "      <td>468987</td>\n",
       "      <td>94</td>\n",
       "    </tr>\n",
       "  </tbody>\n",
       "</table>\n",
       "</div>"
      ],
      "text/plain": [
       "                             name                     genre   year   rating  \\\n",
       "0                           Logan       Action Drama Sci-Fi   2017      8.1   \n",
       "1                    Wonder Woman  Action Adventure Fantasy   2017      7.5   \n",
       "2                  Thor: Ragnarok   Action Adventure Comedy   2017      7.9   \n",
       "3  Guardians of the Galaxy Vol. 2   Action Adventure Comedy   2017      7.7   \n",
       "4                         Dunkirk      Action Drama History   2017      7.9   \n",
       "\n",
       "    runtime   voting   metascore  \n",
       "0       137   563446          77  \n",
       "1       141   489505          76  \n",
       "2       130   487012          74  \n",
       "3       136   486527          67  \n",
       "4       106   468987          94  "
      ]
     },
     "execution_count": 66,
     "metadata": {},
     "output_type": "execute_result"
    }
   ],
   "source": [
    "import pandas as pd\n",
    "data = pd.read_csv(filename) \n",
    "data.head()"
   ]
  },
  {
   "cell_type": "code",
   "execution_count": 18,
   "metadata": {},
   "outputs": [
    {
     "data": {
      "text/plain": [
       "'Logan'"
      ]
     },
     "execution_count": 18,
     "metadata": {},
     "output_type": "execute_result"
    }
   ],
   "source": [
    "#movie name\n",
    "container.a.text"
   ]
  },
  {
   "cell_type": "code",
   "execution_count": 36,
   "metadata": {},
   "outputs": [
    {
     "data": {
      "text/plain": [
       "'Biography'"
      ]
     },
     "execution_count": 36,
     "metadata": {},
     "output_type": "execute_result"
    }
   ],
   "source": [
    "# Genre\n",
    "genre = container.findAll(\"span\", {\"class\":\"genre\"})[0].text.strip()\n",
    "genre.split(\", \")[0]"
   ]
  },
  {
   "cell_type": "code",
   "execution_count": 38,
   "metadata": {},
   "outputs": [
    {
     "data": {
      "text/plain": [
       "str"
      ]
     },
     "execution_count": 38,
     "metadata": {},
     "output_type": "execute_result"
    }
   ],
   "source": [
    "# year\n",
    "year = container.findAll(\"span\", {\"class\":\"lister-item-year text-muted unbold\"})[0].text\n",
    "year = re.findall(r'\\d+', year)[0]\n",
    "year"
   ]
  },
  {
   "cell_type": "code",
   "execution_count": 6,
   "metadata": {},
   "outputs": [
    {
     "data": {
      "text/plain": [
       "'8.1'"
      ]
     },
     "execution_count": 6,
     "metadata": {},
     "output_type": "execute_result"
    }
   ],
   "source": [
    "# rating value\n",
    "rating_value = container.div.meta[\"content\"]\n",
    "rating_value"
   ]
  },
  {
   "cell_type": "code",
   "execution_count": 107,
   "metadata": {},
   "outputs": [
    {
     "data": {
      "text/plain": [
       "137"
      ]
     },
     "execution_count": 107,
     "metadata": {},
     "output_type": "execute_result"
    }
   ],
   "source": [
    "# run time\n",
    "runtime = container.findAll(\"span\", {\"class\":\"runtime\"})[0].text\n",
    "runtime = int(re.findall(r'\\d+', runtime)[0])\n",
    "runtime"
   ]
  },
  {
   "cell_type": "code",
   "execution_count": 114,
   "metadata": {},
   "outputs": [
    {
     "data": {
      "text/plain": [
       "'563,230'"
      ]
     },
     "execution_count": 114,
     "metadata": {},
     "output_type": "execute_result"
    }
   ],
   "source": [
    "#  Votes\n",
    "votes = container.findAll(\"span\", {\"name\":\"nv\"})[0].text\n",
    "votes"
   ]
  },
  {
   "cell_type": "code",
   "execution_count": 131,
   "metadata": {},
   "outputs": [
    {
     "data": {
      "text/plain": [
       "'226.28'"
      ]
     },
     "execution_count": 131,
     "metadata": {},
     "output_type": "execute_result"
    }
   ],
   "source": [
    "#gross\n",
    "gross = container.findAll(\"span\", {\"name\":\"nv\"})[1].text\n",
    "gross = re.findall(\"\\d+\\.\\d+\", gross)[0]\n",
    "gross"
   ]
  },
  {
   "cell_type": "code",
   "execution_count": 45,
   "metadata": {},
   "outputs": [
    {
     "ename": "IndexError",
     "evalue": "list index out of range",
     "output_type": "error",
     "traceback": [
      "\u001b[0;31m---------------------------------------------------------------------------\u001b[0m",
      "\u001b[0;31mIndexError\u001b[0m                                Traceback (most recent call last)",
      "\u001b[0;32m<ipython-input-45-88bec931631e>\u001b[0m in \u001b[0;36m<module>\u001b[0;34m()\u001b[0m\n\u001b[1;32m      1\u001b[0m \u001b[0;31m#meta score\u001b[0m\u001b[0;34m\u001b[0m\u001b[0;34m\u001b[0m\u001b[0m\n\u001b[0;32m----> 2\u001b[0;31m \u001b[0mmetascore\u001b[0m \u001b[0;34m=\u001b[0m \u001b[0mcontainer\u001b[0m\u001b[0;34m.\u001b[0m\u001b[0mfindAll\u001b[0m\u001b[0;34m(\u001b[0m\u001b[0;34m\"div\"\u001b[0m\u001b[0;34m,\u001b[0m \u001b[0;34m{\u001b[0m\u001b[0;34m\"class\"\u001b[0m\u001b[0;34m:\u001b[0m\u001b[0;34m\"inline-block ratings-metascore\"\u001b[0m\u001b[0;34m}\u001b[0m\u001b[0;34m)\u001b[0m\u001b[0;34m[\u001b[0m\u001b[0;36m0\u001b[0m\u001b[0;34m]\u001b[0m\u001b[0;34m.\u001b[0m\u001b[0mtext\u001b[0m\u001b[0;34m.\u001b[0m\u001b[0mstrip\u001b[0m\u001b[0;34m(\u001b[0m\u001b[0;34m)\u001b[0m\u001b[0;34m\u001b[0m\u001b[0m\n\u001b[0m\u001b[1;32m      3\u001b[0m \u001b[0mmetascore\u001b[0m \u001b[0;34m=\u001b[0m \u001b[0mre\u001b[0m\u001b[0;34m.\u001b[0m\u001b[0mfindall\u001b[0m\u001b[0;34m(\u001b[0m\u001b[0;34mr'\\d+'\u001b[0m\u001b[0;34m,\u001b[0m \u001b[0mmetascore\u001b[0m\u001b[0;34m)\u001b[0m\u001b[0;34m[\u001b[0m\u001b[0;36m0\u001b[0m\u001b[0;34m]\u001b[0m\u001b[0;34m\u001b[0m\u001b[0m\n\u001b[1;32m      4\u001b[0m \u001b[0mmetascore\u001b[0m\u001b[0;34m\u001b[0m\u001b[0m\n",
      "\u001b[0;31mIndexError\u001b[0m: list index out of range"
     ]
    }
   ],
   "source": [
    "#meta score\n",
    "metascore = container.findAll(\"div\", {\"class\":\"inline-block ratings-metascore\"})[0].text.strip()\n",
    "metascore = re.findall(r'\\d+', metascore)[0]\n",
    "metascore"
   ]
  }
 ],
 "metadata": {
  "kernelspec": {
   "display_name": "Python 3",
   "language": "python",
   "name": "python3"
  },
  "language_info": {
   "codemirror_mode": {
    "name": "ipython",
    "version": 3
   },
   "file_extension": ".py",
   "mimetype": "text/x-python",
   "name": "python",
   "nbconvert_exporter": "python",
   "pygments_lexer": "ipython3",
   "version": "3.6.5"
  }
 },
 "nbformat": 4,
 "nbformat_minor": 2
}
